{
 "cells": [
  {
   "cell_type": "code",
   "execution_count": 1,
   "id": "5379f951-94ae-4c62-adbf-9542bc4625a4",
   "metadata": {},
   "outputs": [
    {
     "name": "stdout",
     "output_type": "stream",
     "text": [
      "[0, 0, 0, 0, 0, 0, 1, 1, 1, 1, 1, 1, 1, 2, 2, 2, 2, 2, 2]\n"
     ]
    }
   ],
   "source": [
    "class Solution: \n",
    "   def sort012(self, arr): \n",
    "      self.arr = [2, 2, 1, 2, 1, 2, 0, 1, 0, 2, 0, 1, 0, 1, 2, 1, 0, 1, 0] \n",
    "      self.arr = sorted(self.arr) \n",
    "      return self.arr \n",
    "N = Solution() \n",
    "print(N.sort012(N)) "
   ]
  }
 ],
 "metadata": {
  "kernelspec": {
   "display_name": "Python 3 (ipykernel)",
   "language": "python",
   "name": "python3"
  },
  "language_info": {
   "codemirror_mode": {
    "name": "ipython",
    "version": 3
   },
   "file_extension": ".py",
   "mimetype": "text/x-python",
   "name": "python",
   "nbconvert_exporter": "python",
   "pygments_lexer": "ipython3",
   "version": "3.11.7"
  }
 },
 "nbformat": 4,
 "nbformat_minor": 5
}
