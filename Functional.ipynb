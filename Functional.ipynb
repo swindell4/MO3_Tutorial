{
 "cells": [
  {
   "cell_type": "code",
   "execution_count": 21,
   "id": "c11af18d-3462-4764-8fdb-2744fbbdc98a",
   "metadata": {},
   "outputs": [
    {
     "name": "stdout",
     "output_type": "stream",
     "text": [
      "2\n"
     ]
    }
   ],
   "source": [
    "def binarySearch(arr, n, k): \n",
    "   if n not in arr: \n",
    "      k = -1 \n",
    "   else: \n",
    "      k = arr.index(n) \n",
    "      return k \n",
    "\n",
    "arr = [1, 2, 3, 4, 5, 6, 7, 8, 9] \n",
    "n = 3 \n",
    "k = -1 \n",
    "k = binarySearch(arr, n, k) "
   ]
  },
  {
   "cell_type": "code",
   "execution_count": null,
   "id": "5c4cb428-70fc-4715-86c2-0e9bd217e739",
   "metadata": {},
   "outputs": [],
   "source": []
  }
 ],
 "metadata": {
  "kernelspec": {
   "display_name": "Python 3 (ipykernel)",
   "language": "python",
   "name": "python3"
  },
  "language_info": {
   "codemirror_mode": {
    "name": "ipython",
    "version": 3
   },
   "file_extension": ".py",
   "mimetype": "text/x-python",
   "name": "python",
   "nbconvert_exporter": "python",
   "pygments_lexer": "ipython3",
   "version": "3.11.7"
  }
 },
 "nbformat": 4,
 "nbformat_minor": 5
}
